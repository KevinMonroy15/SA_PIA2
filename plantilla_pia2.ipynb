{
 "cells": [
  {
   "cell_type": "markdown",
   "id": "a7564eb9",
   "metadata": {},
   "source": [
    "# Pronóstico del precio de apertura de Bitcoin mediante redes neuronales"
   ]
  },
  {
   "cell_type": "markdown",
   "id": "9a6e79a4",
   "metadata": {},
   "source": [
    "El objetivo de este producto integrador de aprendizaje es utilizar métodos de sistemas adaptativos (en este caso, un redes neuronales profundas) para pronóstico de series de tiempo. Este problema es muy común, considerando que existe una gran cantidad de escenarios donde los datos forman una secuencia temporal--es decir, se generan valores a lo largo del tiempo. Algunos de estos escenarios incluyen los perfiles de consumo de energía (cantidad consumida a lo largo de un mes, por ejemplo), las calificaciones de un alumno durante un semestre, los índices de contaminación a lo largo de un día y la bolsa de valores--entre otros.\n",
    "\n",
    "El escenario que analizamos para este PIA consiste en el precio del *Bitcoin*, que es una de las cripto-monedas más conocidas y utilizadas de los últimos años. En este caso, nos enfocaremos en pronosticar el precio de apertura de esta moneda utilizando redes neuronales."
   ]
  },
  {
   "cell_type": "markdown",
   "id": "b8d7f091",
   "metadata": {},
   "source": [
    "## Librerías"
   ]
  },
  {
   "cell_type": "code",
   "execution_count": 1,
   "id": "2e8ea6e1",
   "metadata": {},
   "outputs": [],
   "source": [
    "#LIBRERÍAS\n",
    "\n",
    "from sklearn.preprocessing import MinMaxScaler\n",
    "from sklearn.metrics import mean_squared_error\n",
    "\n",
    "#Ciencia de datos: Numpy, Pandas, Seaborn\n",
    "import numpy as np\n",
    "import scipy.stats as stats\n",
    "import pandas as pd\n",
    "import matplotlib.pyplot as plt\n",
    "import seaborn as sns\n",
    "\n",
    "#Auxiliares\n",
    "import sys"
   ]
  },
  {
   "cell_type": "markdown",
   "id": "4bc7ce63",
   "metadata": {},
   "source": [
    "## Funciones auxiliares"
   ]
  },
  {
   "cell_type": "markdown",
   "id": "24b94a98",
   "metadata": {},
   "source": [
    "Las dos funciones que estaremos usando como apoyo son *calcular_mse(...)* y *generar_ventanas(...)*. Mientras que la primera nos permite calcular el error cuadrático medio (MSE, por sus siglas en inglés) entre un conjunto de valores (y) y un conjunto de valores estimados (y_hat), la segunda nos permite generar un conjunto de datos a partir de una serie univariada."
   ]
  },
  {
   "cell_type": "code",
   "execution_count": 2,
   "id": "71a43ad1",
   "metadata": {},
   "outputs": [],
   "source": [
    "def calcular_rmse(y, y_hat):\n",
    "    return np.sqrt(mean_squared_error(y, y_hat))"
   ]
  },
  {
   "cell_type": "markdown",
   "id": "210a61ab-8dc7-4df9-90a8-d0d977c4ebd2",
   "metadata": {},
   "source": [
    "Completa la función *generar_ventanas(...)*, que recibe la serie de datos original (*data_preproc*) y la convierte en un conjunto de datos a manera de tabla, donde $X$ representa las características, y $y$ las etiquetas. Para el caso de series univariadas, cada etiqueta $y_n$ representa el valor de apertura para el día $n$, y cada vector de características $X$ representa una serie (dada por *ventana*) de valores de apertura en los días previos. Por ejemplo, si $ventana=4$, entonces el primer renglón del conjunto de datos sería $X=(x_1, x_2, x_3, x_4)$ y $y=x_5$. Luego, el segundo renglón sería $X=(x_2 \\ldots x_5)$ y $y=x_6$. Y así sucesivamente. "
   ]
  },
  {
   "cell_type": "code",
   "execution_count": 3,
   "id": "142c514c",
   "metadata": {},
   "outputs": [],
   "source": [
    "def generar_ventanas(datos_preproc, ventana):\n",
    "    #EJERCICIO 1 ---AQUÍ VA TU CÓDIGO---\n",
    "    \n",
    "    \n",
    "\n",
    "    return X,y"
   ]
  },
  {
   "cell_type": "markdown",
   "id": "94fa41ec",
   "metadata": {},
   "source": [
    "## Lectura del conjunto de datos"
   ]
  },
  {
   "cell_type": "markdown",
   "id": "6ee5401f",
   "metadata": {},
   "source": [
    "Carga los datos en un dataframe de pandas y muestra las primeras líneas de este dataframe. *Tip:* Utiliza los métodos *read_csv(...)* y *head()* de esta librería. Recuerda que este ejercicio ya se hizo para las entregas anteriores."
   ]
  },
  {
   "cell_type": "code",
   "execution_count": 7,
   "id": "c7feb831",
   "metadata": {},
   "outputs": [
    {
     "data": {
      "text/html": [
       "<div>\n",
       "<style scoped>\n",
       "    .dataframe tbody tr th:only-of-type {\n",
       "        vertical-align: middle;\n",
       "    }\n",
       "\n",
       "    .dataframe tbody tr th {\n",
       "        vertical-align: top;\n",
       "    }\n",
       "\n",
       "    .dataframe thead th {\n",
       "        text-align: right;\n",
       "    }\n",
       "</style>\n",
       "<table border=\"1\" class=\"dataframe\">\n",
       "  <thead>\n",
       "    <tr style=\"text-align: right;\">\n",
       "      <th></th>\n",
       "      <th>fecha</th>\n",
       "      <th>apertura</th>\n",
       "    </tr>\n",
       "  </thead>\n",
       "  <tbody>\n",
       "    <tr>\n",
       "      <th>0</th>\n",
       "      <td>01/03/2022 00:00</td>\n",
       "      <td>43221.71</td>\n",
       "    </tr>\n",
       "    <tr>\n",
       "      <th>1</th>\n",
       "      <td>28/02/2022 00:00</td>\n",
       "      <td>37717.10</td>\n",
       "    </tr>\n",
       "    <tr>\n",
       "      <th>2</th>\n",
       "      <td>27/02/2022 00:00</td>\n",
       "      <td>39146.66</td>\n",
       "    </tr>\n",
       "    <tr>\n",
       "      <th>3</th>\n",
       "      <td>26/02/2022 00:00</td>\n",
       "      <td>39242.64</td>\n",
       "    </tr>\n",
       "    <tr>\n",
       "      <th>4</th>\n",
       "      <td>25/02/2022 00:00</td>\n",
       "      <td>38360.93</td>\n",
       "    </tr>\n",
       "  </tbody>\n",
       "</table>\n",
       "</div>"
      ],
      "text/plain": [
       "              fecha  apertura\n",
       "0  01/03/2022 00:00  43221.71\n",
       "1  28/02/2022 00:00  37717.10\n",
       "2  27/02/2022 00:00  39146.66\n",
       "3  26/02/2022 00:00  39242.64\n",
       "4  25/02/2022 00:00  38360.93"
      ]
     },
     "execution_count": 7,
     "metadata": {},
     "output_type": "execute_result"
    }
   ],
   "source": [
    "#EJERCICIO 2 ---AQUÍ VA TU CÓDIGO---\n",
    "df = pd.read_csv('bitcoin_diario_apertura.csv')\n",
    "df.head()"
   ]
  },
  {
   "cell_type": "code",
   "execution_count": 8,
   "id": "090d2bde",
   "metadata": {},
   "outputs": [
    {
     "data": {
      "text/plain": [
       "0    43221.71\n",
       "1    37717.10\n",
       "2    39146.66\n",
       "3    39242.64\n",
       "4    38360.93\n",
       "Name: apertura, dtype: float64"
      ]
     },
     "execution_count": 8,
     "metadata": {},
     "output_type": "execute_result"
    }
   ],
   "source": [
    "df_ap=df['apertura']\n",
    "df_ap.head()"
   ]
  },
  {
   "cell_type": "markdown",
   "id": "4b15263b",
   "metadata": {},
   "source": [
    "## Pre-procesamiento"
   ]
  },
  {
   "cell_type": "markdown",
   "id": "40324ed9",
   "metadata": {},
   "source": [
    "Convierte el dataframe con los precios de apertura (*df_ap*) en un array de numpy, y re-dimensiónalo con *.reshape(-1,1)*. Esto nos servirá para poder realizar operaciones sobre los datos de una manera más sencilla. "
   ]
  },
  {
   "cell_type": "code",
   "execution_count": null,
   "id": "cf607051",
   "metadata": {},
   "outputs": [],
   "source": [
    "#Conversión a array de numpy\n",
    "#EJERCICIO 3---AQUÍ VA TU CÓDIGO---\n",
    "#datos=...\n",
    "\n",
    "#Ver las dimensiones del conjunto de datos\n",
    "print(\"Dimensiones del conjunto de datos: \",datos.shape)"
   ]
  },
  {
   "cell_type": "markdown",
   "id": "c9babeb1",
   "metadata": {},
   "source": [
    "Estandariza el array previamente obtenido utilizando el *MinMaxScaler()*. Esta estandarización nos ayudará a tener acotados los valores del conjunto.\n",
    "\n",
    "Muestra los 10 primeros renglones del conjunto de datos estandarizado."
   ]
  },
  {
   "cell_type": "code",
   "execution_count": null,
   "id": "c86cea56",
   "metadata": {},
   "outputs": [],
   "source": [
    "#Estandarización min-max\n",
    "#EJERCICIO 4 ---AQUÍ VA TU CÓDIGO---\n",
    "#datos_estandarizados= ...\n",
    "\n",
    "datos_estandarizados[:10]"
   ]
  },
  {
   "cell_type": "markdown",
   "id": "307f559a",
   "metadata": {},
   "source": [
    "## Generación de conjuntos de prueba y entrenamiento"
   ]
  },
  {
   "cell_type": "markdown",
   "id": "7dd75e47",
   "metadata": {},
   "source": [
    "Ahora genera, a partir de los datos estandarizados, los conjuntos **X** y **y**, donde el primero contiene los vectores de características y el segundo contiene las etiquetas. Posteriormente, divide cada uno de estos conjuntos en entrenamiento y prueba, de tal manera que termines con los conjuntos **X_train**, **y_train**, **X_test** y **y_test**.\n",
    "\n",
    "Primero, vamos a definir los tamaños de cada conjunto. Considera 70% de los datos para entrenar y 30% para probar."
   ]
  },
  {
   "cell_type": "code",
   "execution_count": null,
   "id": "b1fc6908",
   "metadata": {},
   "outputs": [],
   "source": [
    "ventana=8 #Tomaremos los 8 valores previos\n",
    "\n",
    "#Obtén el tamaño del conjunto de datos.\n",
    "#EJERCICIO 5A---AQUÍ VA TU CÓDIGO---\n",
    "#n=...\n",
    "\n",
    "m=n-ventana\n",
    "\n",
    "#Obtén el tamaño del conjunto de entrenamiento\n",
    "#EJERCICIO 5A---AQUÍ VA TU CÓDIGO---\n",
    "#tam_entrenamiento=...\n",
    "\n",
    "tam_prueba=n-tam_entrenamiento-ventana\n",
    "\n",
    "print(\"Vectores para entrenamiento:\",tam_entrenamiento)\n",
    "print(\"Vectores para prueba: \",tam_prueba)"
   ]
  },
  {
   "cell_type": "markdown",
   "id": "6c303e1f",
   "metadata": {},
   "source": [
    "Ahora, genera los conjuntos **X** y **y**, utilizando para ello la función *generar_ventanas(...)*"
   ]
  },
  {
   "cell_type": "code",
   "execution_count": null,
   "id": "6078d521",
   "metadata": {},
   "outputs": [],
   "source": [
    "#Generamos vectores de características. Cada vector consiste en el precio x y los V precios anteriores, \n",
    "#donde V es el tamaño de la ventana\n",
    "#En este caso, la etiqueta numérica sería el precio x\n",
    "\n",
    "#EJERCICIO 5B---AQUÍ VA TU CÓDIGO---\n",
    "#X,y= ..."
   ]
  },
  {
   "cell_type": "code",
   "execution_count": null,
   "id": "011ba5ae",
   "metadata": {},
   "outputs": [],
   "source": [
    "X[:5]"
   ]
  },
  {
   "cell_type": "code",
   "execution_count": null,
   "id": "8285bdb0",
   "metadata": {},
   "outputs": [],
   "source": [
    "y[:5]"
   ]
  },
  {
   "cell_type": "markdown",
   "id": "5ff3aff9",
   "metadata": {},
   "source": [
    "Genera **X_train**, **X_test**, **y_train**, y **y_test** a partir de **X**, **y** y *tam_entrenamiento*. Considera que, para una serie univariada, el conjunto de entrenamiento consiste en los primeros $n$ valores (contiguos)---dados por *tam_entrenamiento*---, y el conjunto de prueba consiste en los valores restantes de la serie. *Tip:* Utiliza *slicing*."
   ]
  },
  {
   "cell_type": "code",
   "execution_count": null,
   "id": "c4824d3a",
   "metadata": {},
   "outputs": [],
   "source": [
    "#EJERCICIO 5C---AQUÍ VA TU CÓDIGO---\n",
    "#X_train=...\n",
    "#X_test=...\n",
    "#y_train=...\n",
    "#y_test=...\n",
    "\n",
    "y_train=y_train.reshape(-1,1)\n",
    "y_test=y_test.reshape(-1,1)"
   ]
  },
  {
   "cell_type": "code",
   "execution_count": null,
   "id": "c7babf37",
   "metadata": {},
   "outputs": [],
   "source": [
    "print(\"Dimensiones de X: \",X.shape)\n",
    "print(\"Dimensiones de y: \",y.shape)\n",
    "print(\"Dimensiones de X_train: \",X_train.shape)\n",
    "print(\"Dimensiones de X_test: \",X_test.shape)\n",
    "print(\"Dimensiones de y_train: \",y_train.shape)\n",
    "print(\"Dimensiones de y_test: \",y_test.shape)"
   ]
  },
  {
   "cell_type": "markdown",
   "id": "c84bcda3",
   "metadata": {},
   "source": [
    "# Visualizaciones"
   ]
  },
  {
   "cell_type": "markdown",
   "id": "7895702c",
   "metadata": {},
   "source": [
    "## Datos originales"
   ]
  },
  {
   "cell_type": "code",
   "execution_count": null,
   "id": "41211247",
   "metadata": {},
   "outputs": [],
   "source": [
    "# Graficar precios de apertura\n",
    "#EJERCICIO 6 ---AQUÍ VA TU CÓDIGO---"
   ]
  },
  {
   "cell_type": "markdown",
   "id": "dafe13d4",
   "metadata": {},
   "source": [
    "## Entrenamiento y prueba"
   ]
  },
  {
   "cell_type": "code",
   "execution_count": null,
   "id": "5f6f5b1f",
   "metadata": {},
   "outputs": [],
   "source": [
    "#EJERCICIO 7 ---AQUÍ VA TU CÓDIGO---\n",
    "\n",
    "#Entrenamiento: línea negra\n",
    "#plt.plot(...)\n",
    "\n",
    "#Prueba: línea roja\n",
    "#plt.plot(...)"
   ]
  },
  {
   "cell_type": "markdown",
   "id": "1c1c0a07",
   "metadata": {},
   "source": [
    "## Revisión"
   ]
  },
  {
   "cell_type": "markdown",
   "id": "6e48cfa8",
   "metadata": {},
   "source": [
    "**¡¡Ejecuta las siguientes celdas de código!! DEBES TENER EN EL MISMO DIRECTORIO EL ARCHIVO testing_pia2.py**"
   ]
  },
  {
   "cell_type": "code",
   "execution_count": null,
   "id": "c788cc61",
   "metadata": {},
   "outputs": [],
   "source": [
    "import testing_pia2 as testing\n",
    "\n",
    "values=[]\n",
    "avalues=[]\n",
    "lvalues=[]\n",
    "\n",
    "try:\n",
    "    values.append(len(df))\n",
    "    values.append(len(df.columns))\n",
    "except NameError:\n",
    "    values.append(-1)\n",
    "    values.append(-1)\n",
    "\n",
    "try:\n",
    "    values.append(tam_entrenamiento)\n",
    "except NameError:\n",
    "    values.append(-1)\n",
    "\n",
    "try:\n",
    "    values.append(X.shape)\n",
    "except NameError:\n",
    "    values.append(-1)\n",
    "\n",
    "try:\n",
    "    values.append(y.shape)\n",
    "except NameError:\n",
    "    values.append(-1)\n",
    "\n",
    "try:\n",
    "    values.append(X_train.shape)\n",
    "except NameError:\n",
    "    values.append(-1)\n",
    "\n",
    "try:\n",
    "    values.append(X_test.shape)\n",
    "except NameError:\n",
    "    values.append(-1)\n",
    "\n",
    "try:\n",
    "    values.append(y_train.shape)\n",
    "except NameError:\n",
    "    values.append(-1)\n",
    "    \n",
    "try:\n",
    "    values.append(y_test.shape)\n",
    "except NameError:\n",
    "    values.append(-1)\n",
    "\n",
    "try:\n",
    "    avalues.append(datos[0,0])\n",
    "    avalues.append(datos[-1,0])\n",
    "except NameError:\n",
    "    avalues.append(-1)\n",
    "    avalues.append(-1)\n",
    "\n",
    "try:\n",
    "    avalues.append(datos_estandarizados[0,0])\n",
    "    avalues.append(datos_estandarizados[-1,0])\n",
    "except NameError:\n",
    "    avalues.append(-1)\n",
    "    avalues.append(-1)\n",
    "\n",
    "testing.evaluate(values,avalues,lvalues)"
   ]
  },
  {
   "cell_type": "code",
   "execution_count": null,
   "id": "80096e81",
   "metadata": {},
   "outputs": [],
   "source": []
  },
  {
   "cell_type": "code",
   "execution_count": null,
   "id": "893ae19c",
   "metadata": {},
   "outputs": [],
   "source": []
  },
  {
   "cell_type": "code",
   "execution_count": null,
   "id": "637652b1",
   "metadata": {},
   "outputs": [],
   "source": []
  }
 ],
 "metadata": {
  "kernelspec": {
   "display_name": "Python 3 (ipykernel)",
   "language": "python",
   "name": "python3"
  },
  "language_info": {
   "codemirror_mode": {
    "name": "ipython",
    "version": 3
   },
   "file_extension": ".py",
   "mimetype": "text/x-python",
   "name": "python",
   "nbconvert_exporter": "python",
   "pygments_lexer": "ipython3",
   "version": "3.12.0"
  }
 },
 "nbformat": 4,
 "nbformat_minor": 5
}
